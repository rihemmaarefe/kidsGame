{
  "nbformat": 4,
  "nbformat_minor": 0,
  "metadata": {
    "colab": {
      "provenance": [],
      "authorship_tag": "ABX9TyNIKVJWUG48kNFsY/64Kkq0",
      "include_colab_link": true
    },
    "kernelspec": {
      "name": "python3",
      "display_name": "Python 3"
    },
    "language_info": {
      "name": "python"
    }
  },
  "cells": [
    {
      "cell_type": "markdown",
      "metadata": {
        "id": "view-in-github",
        "colab_type": "text"
      },
      "source": [
        "<a href=\"https://colab.research.google.com/github/rihemmaarefe/kidsGame/blob/main/kidsGame.ipynb\" target=\"_parent\"><img src=\"https://colab.research.google.com/assets/colab-badge.svg\" alt=\"Open In Colab\"/></a>"
      ]
    },
    {
      "cell_type": "code",
      "execution_count": null,
      "metadata": {
        "id": "7BZim65kbYL5"
      },
      "outputs": [],
      "source": [
        "import random\n",
        "\n",
        "# Create a list of words for the game\n",
        "words = [\"dog\", \"cat\", \"fish\", \"bird\", \"turtle\"]\n",
        "\n",
        "# Choose a random word from the list\n",
        "word = random.choice(words)\n",
        "\n",
        "# Set up the game\n",
        "guesses = \"\"\n",
        "turns = 6\n",
        "\n",
        "# Loop until the player runs out of turns or guesses the word\n",
        "while turns > 0:\n",
        "    # Print the current status of the game\n",
        "    print(\"Guess a letter in the word:\")\n",
        "    for letter in word:\n",
        "        if letter in guesses:\n",
        "            print(letter, end=\" \")\n",
        "        else:\n",
        "            print(\"_\", end=\" \")\n",
        "    print()\n",
        "    \n",
        "    # Get a guess from the player\n",
        "    guess = input(\"Enter a letter: \").lower()\n",
        "    \n",
        "    # Add the guess to the list of guesses\n",
        "    guesses += guess\n",
        "    \n",
        "    # Check if the guess is in the word\n",
        "    if guess in word:\n",
        "        print(\"Good job! That letter is in the word.\")\n",
        "    else:\n",
        "        print(\"Sorry, that letter is not in the word.\")\n",
        "        turns -= 1\n",
        "    \n",
        "    # Check if the player has guessed the whole word\n",
        "    if set(word).issubset(set(guesses)):\n",
        "        print(\"Congratulations, you guessed the word!\")\n",
        "        break\n",
        "    \n",
        "    # Print the number of turns remaining\n",
        "    print(\"You have\", turns, \"turns remaining.\")\n",
        "    \n",
        "# Game over\n",
        "if turns == 0:\n",
        "    print(\"Sorry, you ran out of turns. The word was\", word + \".\")\n"
      ]
    }
  ]
}